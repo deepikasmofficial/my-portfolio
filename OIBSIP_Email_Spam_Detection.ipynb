{
  "nbformat": 4,
  "nbformat_minor": 0,
  "metadata": {
    "colab": {
      "provenance": [],
      "authorship_tag": "ABX9TyNqgR84CAcd2cEI5vldRAEp",
      "include_colab_link": true
    },
    "kernelspec": {
      "name": "python3",
      "display_name": "Python 3"
    },
    "language_info": {
      "name": "python"
    }
  },
  "cells": [
    {
      "cell_type": "markdown",
      "metadata": {
        "id": "view-in-github",
        "colab_type": "text"
      },
      "source": [
        "<a href=\"https://colab.research.google.com/github/deepikasmofficial/my-portfolio/blob/main/OIBSIP_Email_Spam_Detection.ipynb\" target=\"_parent\"><img src=\"https://colab.research.google.com/assets/colab-badge.svg\" alt=\"Open In Colab\"/></a>"
      ]
    },
    {
      "cell_type": "markdown",
      "source": [
        "# **Version 1 – Sample Dataset**\n",
        "\n",
        "\n",
        "This is a small 5-message dataset used for basic testing."
      ],
      "metadata": {
        "id": "aLyOsUzUxjHj"
      }
    },
    {
      "cell_type": "code",
      "source": [
        "# Step 1: Import libraries\n",
        "import pandas as pd\n",
        "import seaborn as sns\n",
        "import matplotlib.pyplot as plt\n",
        "\n",
        "# Machine learning\n",
        "from sklearn.feature_extraction.text import CountVectorizer\n",
        "from sklearn.model_selection import train_test_split\n",
        "from sklearn.naive_bayes import MultinomialNB\n",
        "from sklearn.metrics import accuracy_score, classification_report\n",
        "\n",
        "# Step 2: Create a small dataset directly\n",
        "data = {\n",
        "    \"label\": [\"ham\", \"spam\", \"ham\", \"spam\", \"ham\"],\n",
        "    \"message\": [\n",
        "        \"Hey, are we still meeting for lunch today?\",\n",
        "        \"Congratulations! You've won a free ticket. Call now!\",\n",
        "        \"Don't forget to bring the documents.\",\n",
        "        \"Get cheap loans NOW! Click here to apply.\",\n",
        "        \"Can you send me the assignment?\"\n",
        "    ]\n",
        "}\n",
        "\n",
        "df = pd.DataFrame(data)\n",
        "\n",
        "# Step 3: View the dataset\n",
        "print(\"First few messages:\")\n",
        "print(df)\n",
        "\n",
        "# Step 4: Convert labels to binary (spam = 1, ham = 0)\n",
        "df['label_num'] = df['label'].map({'ham': 0, 'spam': 1})\n",
        "\n",
        "# Step 5: Separate features and target\n",
        "X = df['message']\n",
        "y = df['label_num']\n",
        "\n",
        "# Step 6: Text vectorization\n",
        "cv = CountVectorizer()\n",
        "X_vectorized = cv.fit_transform(X)\n",
        "\n",
        "# Step 7: Split the data\n",
        "X_train, X_test, y_train, y_test = train_test_split(X_vectorized, y, test_size=0.2, random_state=42)\n",
        "\n",
        "# Step 8: Train the model\n",
        "model = MultinomialNB()\n",
        "model.fit(X_train, y_train)\n",
        "\n",
        "# Step 9: Make predictions\n",
        "y_pred = model.predict(X_test)\n",
        "\n",
        "# Step 10: Show results\n",
        "print(\"\\nAccuracy Score:\", accuracy_score(y_test, y_pred))\n",
        "print(\"\\nClassification Report:\\n\", classification_report(y_test, y_pred))\n"
      ],
      "metadata": {
        "colab": {
          "base_uri": "https://localhost:8080/"
        },
        "id": "hKhnSbu7uz7_",
        "outputId": "74dfe553-40f1-4c6d-e1a5-fa326622fa2a"
      },
      "execution_count": 2,
      "outputs": [
        {
          "output_type": "stream",
          "name": "stdout",
          "text": [
            "First few messages:\n",
            "  label                                            message\n",
            "0   ham         Hey, are we still meeting for lunch today?\n",
            "1  spam  Congratulations! You've won a free ticket. Cal...\n",
            "2   ham               Don't forget to bring the documents.\n",
            "3  spam          Get cheap loans NOW! Click here to apply.\n",
            "4   ham                    Can you send me the assignment?\n",
            "\n",
            "Accuracy Score: 1.0\n",
            "\n",
            "Classification Report:\n",
            "               precision    recall  f1-score   support\n",
            "\n",
            "           1       1.00      1.00      1.00         1\n",
            "\n",
            "    accuracy                           1.00         1\n",
            "   macro avg       1.00      1.00      1.00         1\n",
            "weighted avg       1.00      1.00      1.00         1\n",
            "\n"
          ]
        }
      ]
    },
    {
      "cell_type": "markdown",
      "source": [
        "# **Version 2 – Full Dataset (SMS Spam Collection)**\n",
        "This is the real dataset with 5,500+ messages for better results.\n"
      ],
      "metadata": {
        "id": "AKLDvKSYx4sN"
      }
    },
    {
      "cell_type": "code",
      "source": [
        "# Step 1: Import libraries\n",
        "import pandas as pd\n",
        "import seaborn as sns\n",
        "import matplotlib.pyplot as plt\n",
        "\n",
        "from sklearn.feature_extraction.text import CountVectorizer\n",
        "from sklearn.model_selection import train_test_split\n",
        "from sklearn.naive_bayes import MultinomialNB\n",
        "from sklearn.metrics import accuracy_score, classification_report, confusion_matrix, ConfusionMatrixDisplay\n",
        "\n",
        "# Step 2: Load the dataset (TSV format)\n",
        "url = \"https://raw.githubusercontent.com/justmarkham/pycon-2016-tutorial/master/data/sms.tsv\"\n",
        "df = pd.read_csv(url, sep='\\t', header=None, names=['label', 'message'])\n",
        "\n",
        "# Step 3: View dataset info\n",
        "print(\"First 5 rows:\")\n",
        "print(df.head())\n",
        "\n",
        "# Step 4: Convert labels to numeric values\n",
        "df['label_num'] = df['label'].map({'ham': 0, 'spam': 1})\n",
        "\n",
        "# Step 5: Check class balance\n",
        "print(\"\\nClass distribution:\")\n",
        "print(df['label'].value_counts())\n",
        "\n",
        "# Step 6: Split features and target\n",
        "X = df['message']\n",
        "y = df['label_num']\n",
        "\n",
        "# Step 7: Vectorize the messages\n",
        "cv = CountVectorizer()\n",
        "X_vectorized = cv.fit_transform(X)\n",
        "\n",
        "# Step 8: Train-test split\n",
        "X_train, X_test, y_train, y_test = train_test_split(X_vectorized, y, test_size=0.2, random_state=42)\n",
        "\n",
        "# Step 9: Train the Naive Bayes model\n",
        "model = MultinomialNB()\n",
        "model.fit(X_train, y_train)\n",
        "\n",
        "# Step 10: Make predictions\n",
        "y_pred = model.predict(X_test)\n",
        "\n",
        "# Step 11: Evaluate the model\n",
        "print(\"\\nAccuracy Score:\", accuracy_score(y_test, y_pred))\n",
        "print(\"\\nClassification Report:\\n\", classification_report(y_test, y_pred))\n",
        "\n",
        "# Step 12: Confusion Matrix\n",
        "cm = confusion_matrix(y_test, y_pred)\n",
        "disp = ConfusionMatrixDisplay(confusion_matrix=cm, display_labels=['Ham', 'Spam'])\n",
        "disp.plot()\n",
        "plt.title(\"Confusion Matrix\")\n",
        "plt.show()\n"
      ],
      "metadata": {
        "colab": {
          "base_uri": "https://localhost:8080/",
          "height": 923
        },
        "id": "OVAg-VuwwvNa",
        "outputId": "b6a0e271-969b-430b-ecf6-716c5ab895a6"
      },
      "execution_count": 5,
      "outputs": [
        {
          "output_type": "stream",
          "name": "stdout",
          "text": [
            "First 5 rows:\n",
            "  label                                            message\n",
            "0   ham  Go until jurong point, crazy.. Available only ...\n",
            "1   ham                      Ok lar... Joking wif u oni...\n",
            "2  spam  Free entry in 2 a wkly comp to win FA Cup fina...\n",
            "3   ham  U dun say so early hor... U c already then say...\n",
            "4   ham  Nah I don't think he goes to usf, he lives aro...\n",
            "\n",
            "Class distribution:\n",
            "label\n",
            "ham     4825\n",
            "spam     747\n",
            "Name: count, dtype: int64\n",
            "\n",
            "Accuracy Score: 0.9856502242152466\n",
            "\n",
            "Classification Report:\n",
            "               precision    recall  f1-score   support\n",
            "\n",
            "           0       0.99      0.99      0.99       966\n",
            "           1       0.94      0.95      0.95       149\n",
            "\n",
            "    accuracy                           0.99      1115\n",
            "   macro avg       0.97      0.97      0.97      1115\n",
            "weighted avg       0.99      0.99      0.99      1115\n",
            "\n"
          ]
        },
        {
          "output_type": "display_data",
          "data": {
            "text/plain": [
              "<Figure size 640x480 with 2 Axes>"
            ],
            "image/png": "[encoded data removed]"
          },
          "metadata": {}
        }
      ]
    }
  ]
}